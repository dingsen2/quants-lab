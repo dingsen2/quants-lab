{
 "cells": [
  {
   "cell_type": "code",
   "execution_count": null,
   "outputs": [],
   "source": [
    "# This is necessary to recognize the modules\n",
    "import os\n",
    "import sys\n",
    "from decimal import Decimal\n",
    "import warnings\n",
    "\n",
    "warnings.filterwarnings(\"ignore\")\n",
    "root_path = os.path.abspath(os.path.join(os.getcwd(), '../..'))\n",
    "sys.path.append(root_path)"
   ],
   "metadata": {
    "collapsed": false
   }
  },
  {
   "cell_type": "code",
   "execution_count": null,
   "outputs": [],
   "source": [
    "from data_sources.clob import CLOBDataSource\n",
    "\n",
    "clob = CLOBDataSource()\n",
    "\n",
    "clob.load_candles_cache(root_path + \"/data\")\n",
    "candles = {f\"{key[0]}_{key[1]}_{key[2]}\": value.data for key, value in clob.candles_cache.items()}\n",
    "for key, df in candles.items():\n",
    "    df.reset_index(inplace=True, drop=True)\n",
    "    bb_columns = [col for col in df.columns if \"bb\" in col.lower() or col in [\"signal\", \"out_of_bounds\", \"score\"]]\n",
    "    df.drop(columns=bb_columns, inplace=True)"
   ],
   "metadata": {
    "collapsed": false
   }
  },
  {
   "cell_type": "code",
   "execution_count": null,
   "metadata": {},
   "outputs": [],
   "source": [
    "from hummingbot.strategy_v2.backtesting.controllers_backtesting.directional_trading_backtesting import \\\n",
    "    DirectionalTradingBacktesting\n",
    "import os\n",
    "import datetime\n",
    "\n",
    "start_time = datetime.datetime(2024, 8, 1, 21, 0, 0).timestamp()\n",
    "end_time = datetime.datetime(2024, 8, 20, 18, 0, 0).timestamp()\n",
    "\n",
    "controllers_conf_dir_path = os.path.join(root_path, \"research_notebooks\", \"xtreet_bb\", \"configs\")\n",
    "config_files = os.listdir(controllers_conf_dir_path)\n",
    "backtesting_engine = DirectionalTradingBacktesting()\n",
    "backtesting_engine.backtesting_data_provider.candles_feeds = candles\n",
    "backtesting_engine.backtesting_data_provider.start_time = int(start_time)\n",
    "backtesting_engine.backtesting_data_provider.end_time = int(end_time)\n"
   ]
  },
  {
   "cell_type": "code",
   "execution_count": null,
   "outputs": [],
   "source": [
    "# bt_results = {}\n",
    "# config_file = \"shupoalgo.yml\"\n",
    "# configs = backtesting_engine.get_controller_config_instance_from_yml(\n",
    "#     config_path=config_file,\n",
    "#     controllers_conf_dir_path=controllers_conf_dir_path,\n",
    "#     controllers_module=\"controllers\")\n",
    "# backtesting_results = await backtesting_engine.run_backtesting(\n",
    "#     controller_config=configs, trade_cost=0.0006,\n",
    "#     start=int(start_time), end=int(end_time), backtesting_resolution=\"1m\")\n",
    "# df = backtesting_results[\"processed_data\"][\"features\"]\n",
    "# executors = backtesting_results[\"executors\"]\n",
    "# results = backtesting_results[\"results\"]\n",
    "# print(f\"Net PNL quote: {results['net_pnl_quote']} | Total Volume: {results['total_volume']} \")\n",
    "# bt_results[config_file] = {\"df\": df, \"executors\": executors, \"results\": results, \"configs\": configs}"
   ],
   "metadata": {
    "collapsed": false
   }
  },
  {
   "cell_type": "code",
   "execution_count": null,
   "outputs": [],
   "source": [
    "# bt_results[config_file][\"df\"]"
   ],
   "metadata": {
    "collapsed": false
   }
  },
  {
   "cell_type": "code",
   "execution_count": null,
   "metadata": {},
   "outputs": [],
   "source": [
    "bt_results = {}\n",
    "\n",
    "for i, config_file in enumerate(config_files):\n",
    "    print(f\"Experiment {i}/{len(config_files)}: {config_file}\")\n",
    "    try:\n",
    "        config = backtesting_engine.get_controller_config_instance_from_yml(\n",
    "            config_path=config_file,\n",
    "            controllers_conf_dir_path=controllers_conf_dir_path,\n",
    "            controllers_module=\"controllers\")\n",
    "        backtesting_results = await backtesting_engine.run_backtesting(\n",
    "            controller_config=config, trade_cost=0.0006,\n",
    "            start=int(start_time), end=int(end_time), backtesting_resolution=\"1m\")\n",
    "        df = backtesting_results[\"processed_data\"][\"features\"]\n",
    "        executors = backtesting_results[\"executors\"]\n",
    "        results = backtesting_results[\"results\"]\n",
    "        print(f\"Net PNL quote: {results['net_pnl_quote']} | Total Volume: {results['total_volume']} \")\n",
    "        bt_results[config_file] = {\"df\": df, \"executors\": executors, \"results\": results, \"configs\": config}\n",
    "    except:\n",
    "        print(f\"Error with {config_file}\")"
   ]
  },
  {
   "cell_type": "code",
   "execution_count": null,
   "outputs": [],
   "source": [
    "import pickle\n",
    "for result in bt_results.values():\n",
    "    result[\"results\"][\"trading_pair\"] = result[\"configs\"].trading_pair\n",
    "    result[\"results\"][\"configs\"] = result[\"configs\"].dict()\n",
    "path = os.path.join(root_path, \"research_notebooks\", \"xtreet_bb\", \"backtesting_results_2.pickle\")\n",
    "with open(\"backtesting_results_ts_20_08.pickle\", \"wb\") as f:\n",
    "    pickle.dump(bt_results, f)"
   ],
   "metadata": {
    "collapsed": false
   }
  },
  {
   "cell_type": "code",
   "execution_count": null,
   "outputs": [],
   "source": [
    "import pandas as pd\n",
    "\n",
    "custom_results = bt_results.copy()\n",
    "for result in custom_results.values():\n",
    "    result[\"results\"][\"trading_pair\"] = result[\"configs\"].trading_pair\n",
    "    result[\"results\"][\"configs\"] = result[\"configs\"].dict()\n",
    "cols_to_show = [\"net_pnl_quote\", \"total_volume\", \"close_types\", \"sharpe_ratio\", \"profit_factor\",\n",
    "                \"max_drawdown_usd\"]\n",
    "results_df = pd.DataFrame([result[\"results\"] for result in custom_results.values()])\n",
    "results_df[cols_to_show]"
   ],
   "metadata": {
    "collapsed": false
   }
  },
  {
   "cell_type": "code",
   "execution_count": null,
   "outputs": [],
   "source": [
    "results_df"
   ],
   "metadata": {
    "collapsed": false
   }
  },
  {
   "cell_type": "code",
   "execution_count": null,
   "outputs": [],
   "source": [
    "import plotly.express as px\n",
    "\n",
    "# Create a new column with custom hover text\n",
    "results_df['custom_hover_text'] = results_df.apply(lambda row: f\"\"\"\n",
    "Pair: {row['configs']['trading_pair']}\n",
    "<br>Volume: {row['total_volume']}\n",
    "<br>PNL: {row['net_pnl_quote']}\n",
    "<br>Close types: {row['close_types']}\n",
    "\n",
    "Config:\n",
    "<br>Id: {row['configs']['id']}\n",
    "<br>BB Length: {row['configs']['bb_length']}\n",
    "<br>BB Std: {row['configs']['bb_std']}\n",
    "<br>Take profit: {row['configs']['take_profit']}\n",
    "<br>Stop loss: {row['configs']['stop_loss']}\n",
    "<br>Time limit: {row['configs']['time_limit']}\n",
    "<br>DCA Spreads: {row['configs']['dca_spreads']}\n",
    "<br>DCA Amounts: {row['configs']['dca_amounts_pct']}\n",
    "\"\"\", axis=1)\n",
    "\n",
    "# Create the scatter plot with the custom hover text\n",
    "fig = px.scatter(\n",
    "    results_df,\n",
    "    x=\"total_volume\",\n",
    "    y=\"net_pnl_quote\",\n",
    "    color=\"trading_pair\",  # Color by trading_pair\n",
    "    hover_data={\"custom_hover_text\": True},  # Show the custom hover text\n",
    "    color_discrete_sequence=px.colors.qualitative.Plotly,  # Optional: use a specific color sequence\n",
    "    title=\"Net PNL Quote vs. Total Volume by Trading Pair\"\n",
    ")\n",
    "\n",
    "# Show the figure\n",
    "fig.show()\n"
   ],
   "metadata": {
    "collapsed": false
   }
  },
  {
   "cell_type": "code",
   "execution_count": null,
   "outputs": [],
   "source": [
    "results_df.sort_values(\"net_pnl_quote\", ascending=False).iloc[0]"
   ],
   "metadata": {
    "collapsed": false
   }
  },
  {
   "cell_type": "code",
   "execution_count": null,
   "outputs": [],
   "source": [
    "config_to_backtest = results_df.sort_values(\"net_pnl_quote\", ascending=False).iloc[0][\"configs\"]\n",
    "bt_results_r = bt_results[config_to_backtest[\"id\"] +]"
   ],
   "metadata": {
    "collapsed": false
   }
  },
  {
   "cell_type": "code",
   "execution_count": null,
   "outputs": [],
   "source": [
    "bt_results"
   ],
   "metadata": {
    "collapsed": false
   }
  },
  {
   "cell_type": "code",
   "execution_count": null,
   "outputs": [],
   "source": [
    "bt_results.keys()"
   ],
   "metadata": {
    "collapsed": false
   }
  },
  {
   "cell_type": "code",
   "execution_count": null,
   "outputs": [],
   "source": [
    "import pickle\n",
    "\n",
    "path = os.path.join(root_path, \"research_notebooks\", \"xtreet_bb\", \"backtesting_results_2.pickle\")\n",
    "with open(\"backtesting_results_2.pickle\", \"wb\") as f:\n",
    "    pickle.dump(bt_results, f)"
   ],
   "metadata": {
    "collapsed": false
   }
  },
  {
   "cell_type": "code",
   "execution_count": null,
   "outputs": [],
   "source": [
    "bt_results_r = bt_results[\"shupoalgo.yml\"]\n",
    "df_r = bt_results_r[\"df\"]\n",
    "config_r = bt_results_r[\"configs\"]\n",
    "executors_r = bt_results_r[\"executors\"]"
   ],
   "metadata": {
    "collapsed": false
   }
  },
  {
   "cell_type": "code",
   "execution_count": null,
   "metadata": {},
   "outputs": [],
   "source": [
    "from plotly.subplots import make_subplots\n",
    "import pandas as pd\n",
    "import numpy as np\n",
    "import plotly.graph_objects as go\n",
    "\n",
    "from hummingbot.connector.connector_base import TradeType\n",
    "\n",
    "\n",
    "def get_bt_candlestick_trace(df):\n",
    "    df.index = pd.to_datetime(df.timestamp, unit='s')\n",
    "    return go.Scatter(x=df.index,\n",
    "                      y=df['close'],\n",
    "                      mode='lines',\n",
    "                      line=dict(color=\"blue\"),\n",
    "                      )\n",
    "\n",
    "\n",
    "def get_pnl_trace(executors):\n",
    "    pnl = [e.net_pnl_quote for e in executors]\n",
    "    cum_pnl = np.cumsum(pnl)\n",
    "    return go.Scatter(\n",
    "        x=pd.to_datetime([e.close_timestamp for e in executors], unit=\"s\"),\n",
    "        y=cum_pnl,\n",
    "        mode='lines',\n",
    "        line=dict(color='gold', width=2, dash=\"dash\"),\n",
    "        name='Cumulative PNL'\n",
    "    )\n",
    "\n",
    "\n",
    "def get_default_layout(title=None, height=800, width=1800):\n",
    "    layout = {\n",
    "        \"template\": \"plotly_dark\",\n",
    "        \"plot_bgcolor\": 'rgba(0, 0, 0, 0)',  # Transparent background\n",
    "        \"paper_bgcolor\": 'rgba(0, 0, 0, 0.1)',  # Lighter shade for the paper\n",
    "        \"font\": {\"color\": 'white', \"size\": 12},  # Consistent font color and size\n",
    "        \"height\": height,\n",
    "        \"width\": width,\n",
    "        \"margin\": {\"l\": 20, \"r\": 20, \"t\": 50, \"b\": 20},\n",
    "        \"xaxis_rangeslider_visible\": False,\n",
    "        \"hovermode\": \"x unified\",\n",
    "        \"showlegend\": False,\n",
    "    }\n",
    "    if title:\n",
    "        layout[\"title\"] = title\n",
    "    return layout\n",
    "\n",
    "\n",
    "def add_executors_trace(fig, executors, row, col):\n",
    "    for executor in executors:\n",
    "        entry_time = pd.to_datetime(executor.timestamp, unit='s')\n",
    "        entry_price = executor.custom_info[\"current_position_average_price\"]\n",
    "        exit_time = pd.to_datetime(executor.close_timestamp, unit='s')\n",
    "        filled_time = pd.to_datetime(executor.custom_info[\"entry_timestamp\"], unit='s')\n",
    "        exit_price = executor.custom_info[\"close_price\"]\n",
    "        name = \"Buy Executor\" if executor.config.side == TradeType.BUY else \"Sell Executor\"\n",
    "        if executor.config.side == TradeType.BUY:\n",
    "            stop_loss = entry_price * (1 - float(executor.config.stop_loss))\n",
    "            take_profit = entry_price * (1 + float(executor.config.take_profit))\n",
    "        else:\n",
    "            stop_loss = entry_price * (1 + float(executor.config.stop_loss))\n",
    "            take_profit = entry_price * (1 - float(executor.config.take_profit))\n",
    "\n",
    "        if executor.filled_amount_quote == 0:\n",
    "            fig.add_trace(go.Scatter(x=[entry_time, exit_time], y=[entry_price, entry_price], mode='lines',\n",
    "                                     line=dict(color='grey', width=2, dash=\"dash\"), name=name), row=row, col=col)\n",
    "        else:\n",
    "            if executor.net_pnl_quote > Decimal(0):\n",
    "                fig.add_trace(go.Scatter(x=[entry_time, exit_time], y=[entry_price, exit_price], mode='lines',\n",
    "                                         line=dict(color='green', width=3), name=name), row=row, col=col)\n",
    "            else:\n",
    "                fig.add_trace(go.Scatter(x=[entry_time, exit_time], y=[entry_price, exit_price], mode='lines',\n",
    "                                         line=dict(color='red', width=3), name=name), row=row, col=col)\n",
    "            fig.add_trace(go.Scatter(x=[filled_time, filled_time], y=[entry_price, exit_price], mode='lines',\n",
    "                                     line=dict(color='lightcoral', width=2), name=name), row=row, col=col)\n",
    "            fig.add_trace(go.Scatter(x=[entry_time, exit_time], y=[stop_loss, stop_loss], mode='lines',\n",
    "                                     line=dict(color='red', width=1, dash=\"dash\"), name=name), row=row, col=col)\n",
    "            fig.add_trace(go.Scatter(x=[entry_time, exit_time], y=[take_profit, take_profit], mode='lines',\n",
    "                                     line=dict(color='green', width=1, dash=\"dash\"), name=name), row=row, col=col)\n",
    "    return fig\n",
    "\n",
    "\n",
    "def create_backtesting_figure(df, executors, config):\n",
    "    # Create subplots\n",
    "    fig = make_subplots(rows=2, cols=1, shared_xaxes=True,\n",
    "                        vertical_spacing=0.02, subplot_titles=('Candlestick', 'PNL Quote'),\n",
    "                        row_heights=[0.7, 0.3])\n",
    "\n",
    "    # Add candlestick trace\n",
    "    fig.add_trace(get_bt_candlestick_trace(df), row=1, col=1)\n",
    "\n",
    "    # Add executors trace\n",
    "    fig = add_executors_trace(fig, executors, row=1, col=1)\n",
    "\n",
    "    # Add PNL trace\n",
    "    fig.add_trace(get_pnl_trace(executors), row=2, col=1)\n",
    "\n",
    "    # Apply the theme layout\n",
    "    layout_settings = get_default_layout(f\"Trading Pair: {config['trading_pair']}\")\n",
    "    layout_settings[\"showlegend\"] = False\n",
    "    fig.update_layout(**layout_settings)\n",
    "\n",
    "    # Update axis properties\n",
    "    fig.update_xaxes(rangeslider_visible=False, row=1, col=1)\n",
    "    fig.update_xaxes(row=2, col=1)\n",
    "    fig.update_yaxes(title_text=\"Price\", row=1, col=1)\n",
    "    fig.update_yaxes(title_text=\"PNL\", row=2, col=1)\n",
    "    return fig\n",
    "\n",
    "\n",
    "fig = create_backtesting_figure(\n",
    "    df=df_r,\n",
    "    executors=executors_r,\n",
    "    config=config_r.dict())\n",
    "# df.ta.bbands(length=configs.bb_length, std=configs.bb_std, append=True)\n",
    "fig.add_trace(go.Scatter(x=df_r.index,\n",
    "                         y=df_r[f\"BBU_{config_r.bb_length}_{config_r.bb_std}\"])\n",
    "              )\n",
    "fig.add_trace(go.Scatter(x=df_r.index,\n",
    "                         y=df_r[f\"BBM_{config_r.bb_length}_{config_r.bb_std}\"])\n",
    "              )\n",
    "fig.add_trace(go.Scatter(x=df_r.index,\n",
    "                         y=df_r[f\"BBL_{config_r.bb_length}_{config_r.bb_std}\"])\n",
    "              )\n",
    "fig.update_layout(width=1400)\n",
    "fig.show()"
   ]
  },
  {
   "cell_type": "code",
   "execution_count": null,
   "outputs": [],
   "source": [],
   "metadata": {
    "collapsed": false
   }
  }
 ],
 "metadata": {
  "kernelspec": {
   "display_name": "quants-lab",
   "language": "python",
   "name": "python3"
  },
  "language_info": {
   "codemirror_mode": {
    "name": "ipython",
    "version": 3
   },
   "file_extension": ".py",
   "mimetype": "text/x-python",
   "name": "python",
   "nbconvert_exporter": "python",
   "pygments_lexer": "ipython3",
   "version": "3.10.14"
  }
 },
 "nbformat": 4,
 "nbformat_minor": 2
}
