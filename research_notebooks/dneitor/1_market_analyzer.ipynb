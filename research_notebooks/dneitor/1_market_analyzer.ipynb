{
 "cells": [
  {
   "cell_type": "code",
   "execution_count": null,
   "metadata": {
    "collapsed": false,
    "jupyter": {
     "outputs_hidden": false
    }
   },
   "outputs": [],
   "source": [
    "# This is necessary to recognize the modules\n",
    "import os\n",
    "import sys\n",
    "from decimal import Decimal\n",
    "import warnings\n",
    "\n",
    "warnings.filterwarnings(\"ignore\")\n",
    "\n",
    "root_path = os.path.abspath(os.path.join(os.getcwd(), '../..'))\n",
    "sys.path.append(root_path)"
   ]
  },
  {
   "cell_type": "code",
   "execution_count": null,
   "metadata": {
    "collapsed": false,
    "jupyter": {
     "outputs_hidden": false
    }
   },
   "outputs": [],
   "source": [
    "from data_sources.clob import CLOBDataSource\n",
    "\n",
    "# Get trading rules and candles\n",
    "clob = CLOBDataSource()"
   ]
  },
  {
   "cell_type": "code",
   "execution_count": null,
   "metadata": {
    "collapsed": false,
    "jupyter": {
     "outputs_hidden": false
    }
   },
   "outputs": [],
   "source": [
    "# Constants\n",
    "CONNECTOR_NAME = \"binance\"\n",
    "INTERVALS = [\"15m\"]\n",
    "DAYS = 7\n",
    "FETCH_CANDLES = True\n",
    "\n",
    "# Features configuration\n",
    "VOLATILITY_WINDOW = 100\n",
    "VOLUME_SHORT_WINDOW = 20\n",
    "VOLUME_LONG_WINDOW = 100"
   ]
  },
  {
   "cell_type": "markdown",
   "metadata": {
    "collapsed": false,
    "jupyter": {
     "outputs_hidden": false
    }
   },
   "source": [
    "# Download data\n",
    "- Get trading rules\n",
    "- Get candles for the last x days"
   ]
  },
  {
   "cell_type": "code",
   "execution_count": null,
   "metadata": {
    "collapsed": false,
    "jupyter": {
     "outputs_hidden": false
    }
   },
   "outputs": [],
   "source": [
    "import asyncio\n",
    "\n",
    "trading_rules = await clob.get_trading_rules(CONNECTOR_NAME)\n",
    "trading_pairs = trading_rules.filter_by_quote_asset(\"FDUSD\")\\\n",
    "    .filter_by_min_notional_size(Decimal(\"1\"))\\\n",
    "    .get_all_trading_pairs()"
   ]
  },
  {
   "cell_type": "code",
   "execution_count": null,
   "outputs": [],
   "source": [
    "BATCH_CANDLES_REQUEST = 100\n",
    "SLEEP_REQUEST = 2.0\n",
    "\n",
    "\n",
    "if FETCH_CANDLES:\n",
    "    number_of_calls = (len(trading_pairs) // BATCH_CANDLES_REQUEST) + 1\n",
    "\n",
    "    all_candles = {}\n",
    "\n",
    "    for i in range(number_of_calls):\n",
    "        print(f\"Batch {i + 1}/{number_of_calls}\")\n",
    "        start = i * BATCH_CANDLES_REQUEST\n",
    "        end = (i + 1) * BATCH_CANDLES_REQUEST\n",
    "        print(f\"Start: {start}, End: {end}\")\n",
    "        end = min(end, len(trading_pairs))\n",
    "        trading_pairs_batch = trading_pairs[start:end]\n",
    "\n",
    "        tasks = [clob.get_candles_last_days(\n",
    "        connector_name=CONNECTOR_NAME,\n",
    "        trading_pair=trading_pair,\n",
    "        interval=interval,\n",
    "        days=DAYS,\n",
    "        ) for trading_pair in trading_pairs_batch for interval in INTERVALS]\n",
    "\n",
    "        candles = await asyncio.gather(*tasks)\n",
    "        candles = {trading_pair: candle for trading_pair, candle in zip(trading_pairs, candles)}\n",
    "        all_candles.update(candles)\n",
    "        if i != number_of_calls - 1:\n",
    "            print(f\"Sleeping for {SLEEP_REQUEST} seconds\")\n",
    "            await asyncio.sleep(SLEEP_REQUEST)\n",
    "    clob.dump_candles_cache(os.path.join(root_path, \"data\"))\n",
    "else:\n",
    "    clob.load_candles_cache(os.path.join(root_path, \"data\"))"
   ],
   "metadata": {
    "collapsed": false
   }
  },
  {
   "cell_type": "code",
   "execution_count": null,
   "outputs": [],
   "source": [
    "candles = [value for key, value in clob.candles_cache.items() if key[2] in INTERVALS and key[0] == CONNECTOR_NAME]"
   ],
   "metadata": {
    "collapsed": false
   }
  },
  {
   "cell_type": "code",
   "execution_count": null,
   "metadata": {
    "collapsed": false,
    "jupyter": {
     "outputs_hidden": false
    }
   },
   "outputs": [],
   "source": [
    "from features.candles.volatility import VolatilityConfig\n",
    "from features.candles.volume import VolumeConfig\n",
    "from research_notebooks.dneitor.utils import generate_report\n",
    "\n",
    "report = generate_report(\n",
    "    candles=candles,\n",
    "    volatility_config=VolatilityConfig(window=VOLATILITY_WINDOW),\n",
    "    volume_config=VolumeConfig(short_window=VOLUME_SHORT_WINDOW, long_window=VOLUME_LONG_WINDOW))\n",
    "report"
   ]
  },
  {
   "cell_type": "code",
   "execution_count": null,
   "metadata": {
    "collapsed": false,
    "jupyter": {
     "outputs_hidden": false
    }
   },
   "outputs": [],
   "source": [
    "from research_notebooks.dneitor.utils import filter_top_markets\n",
    "\n",
    "TOP_X_MARKETS = 10  # Number of top markets to select\n",
    "MIN_VOLUME_USD = 2000  # Minimum volume in USD\n",
    "MIN_NATR = 0.001  # Minimum ATR\n",
    "TREND_THRESHOLD = -2  # Trend threshold\n",
    "\n",
    "top_markets = filter_top_markets(report_df=report, top_x=TOP_X_MARKETS, min_volume_usd=MIN_VOLUME_USD, min_natr=MIN_NATR, trend_threshold=TREND_THRESHOLD)\n",
    "top_markets_candles = {candle.trading_pair: candle for candle in candles if candle.trading_pair in top_markets[\"trading_pair\"].values}\n",
    "top_markets"
   ]
  },
  {
   "cell_type": "code",
   "execution_count": null,
   "metadata": {
    "collapsed": false,
    "jupyter": {
     "outputs_hidden": false
    }
   },
   "outputs": [],
   "source": [
    "\n",
    "from research_notebooks.dneitor.utils import generate_config, dump_dict_to_yaml\n",
    "\n",
    "\n",
    "TOTAL_AMOUNT = 3000  # General total amount for all markets\n",
    "MIN_AMOUNT_PER_MARKET = 200  # Minimum amount per market\n",
    "ACTIVATION_BOUNDS = 0.002  # Input activation bounds\n",
    "MAX_OPEN_ORDERS = 1  # Input max open orders for each market\n",
    "\n",
    "TAKE_PROFIT_MULTIPLIER = 0.3  # Multiplier for take profit based on NATR\n",
    "AMOUNTS_QUOTE_PCT = [0.1, 0.1, 0.1, 0.1, 0.2, 0.2]  # Weights for each cluster\n",
    "\n",
    "strategy_config = generate_config(\n",
    "    id=f\"dneitor-{CONNECTOR_NAME}_0.4\",\n",
    "    connector_name=CONNECTOR_NAME,\n",
    "    candles=top_markets_candles,\n",
    "    top_markets=top_markets,\n",
    "    total_amount=TOTAL_AMOUNT,\n",
    "    amounts_quote_pct=AMOUNTS_QUOTE_PCT,\n",
    "    activation_bounds=ACTIVATION_BOUNDS,\n",
    "    take_profit_multiplier=TAKE_PROFIT_MULTIPLIER,\n",
    "    max_open_orders=MAX_OPEN_ORDERS,\n",
    "    min_amount_per_market=MIN_AMOUNT_PER_MARKET,\n",
    ")\n",
    "\n",
    "dump_dict_to_yaml(\"configs/\", strategy_config)"
   ]
  }
 ],
 "metadata": {
  "kernelspec": {
   "display_name": "Python 3 (ipykernel)",
   "language": "python",
   "name": "python3"
  },
  "language_info": {
   "codemirror_mode": {
    "name": "ipython",
    "version": 3
   },
   "file_extension": ".py",
   "mimetype": "text/x-python",
   "name": "python",
   "nbconvert_exporter": "python",
   "pygments_lexer": "ipython3",
   "version": "3.10.14"
  }
 },
 "nbformat": 4,
 "nbformat_minor": 4
}
