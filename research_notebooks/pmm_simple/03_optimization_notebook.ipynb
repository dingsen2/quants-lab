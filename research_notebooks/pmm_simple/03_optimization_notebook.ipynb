{
 "cells": [
  {
   "cell_type": "code",
   "execution_count": 1,
   "metadata": {
    "collapsed": false,
    "ExecuteTime": {
     "end_time": "2024-09-05T18:23:29.806685Z",
     "start_time": "2024-09-05T18:23:29.802875Z"
    }
   },
   "outputs": [],
   "source": [
    "import os\n",
    "import sys\n",
    "\n",
    "root_path = os.path.abspath(os.path.join(os.getcwd(), '../..'))\n",
    "sys.path.append(root_path)"
   ]
  },
  {
   "cell_type": "code",
   "execution_count": 2,
   "metadata": {
    "ExecuteTime": {
     "end_time": "2024-09-05T18:23:31.214935Z",
     "start_time": "2024-09-05T18:23:29.812410Z"
    }
   },
   "outputs": [],
   "source": [
    "from hummingbot.strategy_v2.utils.distributions import Distributions\n",
    "from controllers.market_making.pmm_simple import PMMSimpleConfig\n",
    "from core.backtesting.optimizer import BacktestingConfig, BaseStrategyConfigGenerator\n",
    "from hummingbot.strategy_v2.executors.position_executor.data_types import TrailingStop\n",
    "from decimal import Decimal\n",
    "\n",
    "\n",
    "class PMMSimpleConfigGenerator(BaseStrategyConfigGenerator):\n",
    "    \"\"\"\n",
    "    Strategy configuration generator for PMM Simple optimization.\n",
    "    \"\"\"\n",
    "    def generate_config(self, trial) -> BacktestingConfig:\n",
    "        # Controller configuration\n",
    "        connector_name = \"binance_perpetual\"\n",
    "        trading_pair = \"1000PEPE-USDT\"\n",
    "        total_amount_quote = 1000\n",
    "        take_profit = trial.suggest_float(\"take_profit\", 0.02, 0.05, step=0.01)\n",
    "        stop_loss = trial.suggest_float(\"stop_loss\", 0.005, 0.05, step=0.005)\n",
    "        levels = trial.suggest_int(\"levels\", 3, 5)\n",
    "        start_spread = trial.suggest_float(\"start_spread\", 0.002, 0.005, step=0.001)\n",
    "        step_spread = trial.suggest_float(\"step_spread\", 0.001, 0.002, step=0.001)\n",
    "        spreads = Distributions.arithmetic(levels, start_spread, step_spread)\n",
    "        trailing_stop_activation_price = trial.suggest_float(\"trailing_stop_activation_price\", 0.005, 0.015, step=0.01)\n",
    "        trailing_delta_ratio = trial.suggest_float(\"trailing_delta_ratio\", 0.05, 0.1, step=0.01)\n",
    "        trailing_stop_trailing_delta = trailing_stop_activation_price * trailing_delta_ratio\n",
    "        time_limit = trial.suggest_int(\"time_limit\", 60 * 60 * 2, 60 * 60 * 4, step=60 * 60)\n",
    "        executor_refresh_time = trial.suggest_int(\"executor_refresh_time\", 60 * 2, 60 * 10, step=60)\n",
    "        cooldown_time = trial.suggest_int(\"cooldown_time\", 60 * 5, 60 * 10, step=60)\n",
    "\n",
    "\n",
    "        # Creating the instance of the configuration and the controller\n",
    "        config = PMMSimpleConfig(\n",
    "            connector_name=connector_name,\n",
    "            trading_pair=trading_pair,\n",
    "            sell_spreads=spreads,\n",
    "            buy_spreads=spreads,\n",
    "            total_amount_quote=Decimal(total_amount_quote),\n",
    "            take_profit=Decimal(take_profit),\n",
    "            stop_loss=Decimal(stop_loss),\n",
    "            trailing_stop=TrailingStop(activation_price=Decimal(trailing_stop_activation_price), trailing_delta=Decimal(trailing_stop_trailing_delta)),\n",
    "            time_limit=time_limit,\n",
    "            cooldown_time=cooldown_time,\n",
    "            executor_refresh_time=executor_refresh_time\n",
    "        )\n",
    "\n",
    "        # Return the configuration encapsulated in BacktestingConfig\n",
    "        return BacktestingConfig(config=config, start=self.start, end=self.end)"
   ]
  },
  {
   "cell_type": "code",
   "execution_count": 5,
   "metadata": {
    "ExecuteTime": {
     "end_time": "2024-09-05T18:25:57.954809Z",
     "start_time": "2024-09-05T18:24:47.738481Z"
    }
   },
   "outputs": [
    {
     "name": "stderr",
     "output_type": "stream",
     "text": [
      "[I 2024-09-05 15:24:47,765] Using an existing study with name 'pmm_simple_with_optimizer' instead of creating a new one.\n",
      "2024-09-05 15:24:49,155 - asyncio - ERROR - Unclosed client session\n",
      "client_session: <aiohttp.client.ClientSession object at 0x13f399510>\n",
      "2024-09-05 15:24:49,157 - asyncio - ERROR - Unclosed connector\n",
      "connections: ['[(<aiohttp.client_proto.ResponseHandler object at 0x13f45c340>, 33883.27009025)]']\n",
      "connector: <aiohttp.connector.TCPConnector object at 0x13f399e40>\n",
      "127.0.0.1 - - [05/Sep/2024 15:24:49] \"GET /api/studies/2?after=1 HTTP/1.1\" 200 58196\n",
      "127.0.0.1 - - [05/Sep/2024 15:25:00] \"GET /api/studies/2?after=1 HTTP/1.1\" 200 134073\n",
      "127.0.0.1 - - [05/Sep/2024 15:25:12] \"GET /api/studies/2?after=1 HTTP/1.1\" 200 214237\n",
      "127.0.0.1 - - [05/Sep/2024 15:25:24] \"GET /api/studies/2?after=1 HTTP/1.1\" 200 290014\n",
      "127.0.0.1 - - [05/Sep/2024 15:25:36] \"GET /api/studies/2?after=1 HTTP/1.1\" 200 365903\n",
      "127.0.0.1 - - [05/Sep/2024 15:25:51] \"GET /api/studies/2?after=1 HTTP/1.1\" 200 456872\n"
     ]
    }
   ],
   "source": [
    "from core.backtesting.optimizer import StrategyOptimizer\n",
    "import datetime\n",
    "\n",
    "start_date = datetime.datetime(2024, 8, 1)\n",
    "end_date = datetime.datetime(2024, 8, 3)\n",
    "config_generator = PMMSimpleConfigGenerator(start_date=start_date, end_date=end_date)\n",
    "\n",
    "optimizer = StrategyOptimizer(root_path=root_path)\n",
    "await optimizer.optimize(\n",
    "    study_name=\"pmm_simple_with_optimizer\",\n",
    "    config_generator=config_generator,\n",
    "    n_trials=100,\n",
    ")"
   ]
  },
  {
   "cell_type": "code",
   "execution_count": 4,
   "outputs": [],
   "source": [
    "optimizer.launch_optuna_dashboard()"
   ],
   "metadata": {
    "collapsed": false,
    "ExecuteTime": {
     "end_time": "2024-09-05T18:23:37.339354Z",
     "start_time": "2024-09-05T18:23:37.327211Z"
    }
   }
  },
  {
   "cell_type": "code",
   "execution_count": 4,
   "outputs": [],
   "source": [],
   "metadata": {
    "collapsed": false,
    "ExecuteTime": {
     "end_time": "2024-09-05T18:23:37.340857Z",
     "start_time": "2024-09-05T18:23:37.339922Z"
    }
   }
  }
 ],
 "metadata": {
  "kernelspec": {
   "display_name": "Python 3",
   "language": "python",
   "name": "python3"
  },
  "language_info": {
   "codemirror_mode": {
    "name": "ipython",
    "version": 3
   },
   "file_extension": ".py",
   "mimetype": "text/x-python",
   "name": "python",
   "nbconvert_exporter": "python",
   "pygments_lexer": "ipython3",
   "version": "3.10.14"
  }
 },
 "nbformat": 4,
 "nbformat_minor": 0
}
