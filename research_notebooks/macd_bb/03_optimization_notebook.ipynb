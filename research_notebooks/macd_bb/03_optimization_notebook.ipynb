{
 "cells": [
  {
   "cell_type": "code",
   "execution_count": 2,
   "metadata": {
    "collapsed": false,
    "ExecuteTime": {
     "end_time": "2024-09-04T17:38:23.643621Z",
     "start_time": "2024-09-04T17:38:23.641461Z"
    }
   },
   "outputs": [],
   "source": [
    "import os\n",
    "import sys\n",
    "\n",
    "root_path = os.path.abspath(os.path.join(os.getcwd(), '../..'))\n",
    "sys.path.append(root_path)"
   ]
  },
  {
   "cell_type": "code",
   "execution_count": 3,
   "metadata": {
    "ExecuteTime": {
     "end_time": "2024-09-04T17:38:24.342983Z",
     "start_time": "2024-09-04T17:38:24.311274Z"
    }
   },
   "outputs": [],
   "source": [
    "from core.backtesting.optimizer import BacktestingConfig, BaseStrategyConfigGenerator\n",
    "from hummingbot.strategy_v2.executors.position_executor.data_types import TrailingStop\n",
    "from controllers.directional_trading.macd_bb_v1 import MACDBBV1ControllerConfig\n",
    "from decimal import Decimal\n",
    "\n",
    "\n",
    "class MACDBBConfigGenerator(BaseStrategyConfigGenerator):\n",
    "    \"\"\"\n",
    "    Strategy configuration generator for MACD and Bollinger Bands optimization.\n",
    "    \"\"\"\n",
    "    def generate_config(self, trial) -> BacktestingConfig:\n",
    "        # Suggest hyperparameters using the trial object\n",
    "        fast_ma = trial.suggest_int(\"fast_ma\", 9, 59, step=10)\n",
    "        slow_ma = trial.suggest_int(\"slow_ma\", 21, 201, step=10)\n",
    "        signal_ma = trial.suggest_int(\"signal_ma\", 10, 200, step=10)\n",
    "        bb_length = trial.suggest_int(\"bb_length\", 10, 200, step=10)\n",
    "        bb_std = trial.suggest_float(\"bb_std\", 1.0, 2.5, step=0.1)\n",
    "        total_amount_quote = 1000\n",
    "        max_executors_per_side = trial.suggest_int(\"max_executors_per_side\", 1, 10)\n",
    "        take_profit = trial.suggest_float(\"take_profit\", 0.01, 0.1, step=0.01)\n",
    "        stop_loss = trial.suggest_float(\"stop_loss\", 0.01, 0.1, step=0.01)\n",
    "        trailing_stop_activation_price = trial.suggest_float(\"trailing_stop_activation_price\", 0.004, 0.02, step=0.001)\n",
    "        trailing_delta_ratio = trial.suggest_float(\"trailing_delta_ratio\", 0.05, 0.1, step=0.01)\n",
    "        trailing_stop_trailing_delta = trailing_stop_activation_price * trailing_delta_ratio\n",
    "        time_limit = 60 * 60 * 24 * 2\n",
    "        cooldown_time = 60 * 15\n",
    "\n",
    "        # Create the strategy configuration\n",
    "        config = MACDBBV1ControllerConfig(\n",
    "            connector_name=\"binance_perpetual\",\n",
    "            trading_pair=\"1000PEPE-USDT\",\n",
    "            macd_fast=fast_ma,\n",
    "            macd_slow=slow_ma,\n",
    "            macd_signal=signal_ma,\n",
    "            bb_length=bb_length,\n",
    "            bb_std=bb_std,\n",
    "            total_amount_quote=Decimal(total_amount_quote),\n",
    "            take_profit=Decimal(take_profit),\n",
    "            stop_loss=Decimal(stop_loss),\n",
    "            trailing_stop=TrailingStop(\n",
    "                activation_price=Decimal(trailing_stop_activation_price),\n",
    "                trailing_delta=Decimal(trailing_stop_trailing_delta),\n",
    "            ),\n",
    "            time_limit=time_limit,\n",
    "            max_executors_per_side=max_executors_per_side,\n",
    "            cooldown_time=cooldown_time,\n",
    "        )\n",
    "\n",
    "        # Return the configuration encapsulated in BacktestingConfig\n",
    "        return BacktestingConfig(config=config, start=self.start, end=self.end)"
   ]
  },
  {
   "cell_type": "code",
   "execution_count": 4,
   "metadata": {
    "ExecuteTime": {
     "end_time": "2024-09-04T17:38:56.952072Z",
     "start_time": "2024-09-04T17:38:24.831524Z"
    }
   },
   "outputs": [
    {
     "name": "stderr",
     "output_type": "stream",
     "text": [
      "[I 2024-09-04 14:38:24,989] Using an existing study with name 'macd_bb_v1_with_optimizer' instead of creating a new one.\n",
      "2024-09-04 14:38:27,622 - asyncio - ERROR - Unclosed client session\n",
      "client_session: <aiohttp.client.ClientSession object at 0x154dce1a0>\n",
      "2024-09-04 14:38:27,622 - asyncio - ERROR - Unclosed connector\n",
      "connections: ['[(<aiohttp.client_proto.ResponseHandler object at 0x104253b80>, 16662.8585375)]']\n",
      "connector: <aiohttp.connector.TCPConnector object at 0x154dcd390>\n",
      "2024-09-04 14:38:36,811 - asyncio - ERROR - Unclosed client session\n",
      "client_session: <aiohttp.client.ClientSession object at 0x154dcf010>\n",
      "2024-09-04 14:38:36,811 - asyncio - ERROR - Unclosed connector\n",
      "connections: ['[(<aiohttp.client_proto.ResponseHandler object at 0x156a81480>, 16672.046315291)]']\n",
      "connector: <aiohttp.connector.TCPConnector object at 0x154dcefe0>\n"
     ]
    }
   ],
   "source": [
    "from core.backtesting.optimizer import StrategyOptimizer\n",
    "import datetime\n",
    "\n",
    "start_date = datetime.datetime(2024, 8, 1)\n",
    "end_date = datetime.datetime(2024, 8, 31)\n",
    "config_generator = MACDBBConfigGenerator(start_date=start_date, end_date=end_date)\n",
    "\n",
    "optimizer = StrategyOptimizer(root_path=root_path)\n",
    "await optimizer.optimize(\n",
    "    study_name=\"macd_bb_v1_with_optimizer\",\n",
    "    config_generator=config_generator,\n",
    "    n_trials=100,\n",
    ")"
   ]
  },
  {
   "cell_type": "code",
   "execution_count": 5,
   "outputs": [],
   "source": [
    "optimizer.launch_optuna_dashboard()"
   ],
   "metadata": {
    "collapsed": false,
    "ExecuteTime": {
     "end_time": "2024-09-04T17:39:00.188651Z",
     "start_time": "2024-09-04T17:39:00.182370Z"
    }
   }
  },
  {
   "cell_type": "code",
   "execution_count": null,
   "outputs": [],
   "source": [],
   "metadata": {
    "collapsed": false
   }
  }
 ],
 "metadata": {
  "kernelspec": {
   "display_name": "Python 3",
   "language": "python",
   "name": "python3"
  },
  "language_info": {
   "codemirror_mode": {
    "name": "ipython",
    "version": 3
   },
   "file_extension": ".py",
   "mimetype": "text/x-python",
   "name": "python",
   "nbconvert_exporter": "python",
   "pygments_lexer": "ipython3",
   "version": "3.10.14"
  }
 },
 "nbformat": 4,
 "nbformat_minor": 0
}
